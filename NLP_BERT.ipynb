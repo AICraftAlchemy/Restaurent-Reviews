{
 "cells": [
  {
   "cell_type": "code",
   "execution_count": 2,
   "metadata": {
    "colab": {
     "base_uri": "https://localhost:8080/"
    },
    "id": "Zl1qpeDPMCcf",
    "outputId": "dc0e5b06-2022-4ba8-f4ff-af7cda250bdb"
   },
   "outputs": [
    {
     "name": "stderr",
     "output_type": "stream",
     "text": [
      "Some weights of BertForSequenceClassification were not initialized from the model checkpoint at bert-base-uncased and are newly initialized: ['classifier.weight', 'classifier.bias']\n",
      "You should probably TRAIN this model on a down-stream task to be able to use it for predictions and inference.\n",
      "/usr/local/lib/python3.10/dist-packages/transformers/optimization.py:411: FutureWarning: This implementation of AdamW is deprecated and will be removed in a future version. Use the PyTorch implementation torch.optim.AdamW instead, or set `no_deprecation_warning=True` to disable this warning\n",
      "  warnings.warn(\n",
      "Epoch 1/1 - Training: 100%|██████████| 1991/1991 [10:54<00:00,  3.04it/s]\n"
     ]
    },
    {
     "name": "stdout",
     "output_type": "stream",
     "text": [
      "Epoch 1/1, Training Loss: 0.6746, Training Accuracy: 0.7318\n"
     ]
    },
    {
     "name": "stderr",
     "output_type": "stream",
     "text": [
      "Epoch 1/1 - Evaluating: 100%|██████████| 498/498 [00:57<00:00,  8.72it/s]\n"
     ]
    },
    {
     "name": "stdout",
     "output_type": "stream",
     "text": [
      "Final Training Loss: 0.6746, Final Training Accuracy: 0.7318\n",
      "Final Validation Loss: 0.3875, Final Validation Accuracy: 0.8670\n",
      "Confusion Matrix:\n",
      " [[1305   91    7    4    8]\n",
      " [  78  458   47    7    2]\n",
      " [   6   97  705  120   33]\n",
      " [   1    9   71 1542  327]\n",
      " [   5    3    2  141 2895]]\n",
      "Final Classification Report:\n",
      "               precision    recall  f1-score   support\n",
      "\n",
      "           0       0.94      0.92      0.93      1415\n",
      "           1       0.70      0.77      0.73       592\n",
      "           2       0.85      0.73      0.79       961\n",
      "           3       0.85      0.79      0.82      1950\n",
      "           4       0.89      0.95      0.92      3046\n",
      "\n",
      "    accuracy                           0.87      7964\n",
      "   macro avg       0.84      0.83      0.84      7964\n",
      "weighted avg       0.87      0.87      0.87      7964\n",
      "\n"
     ]
    },
    {
     "data": {
      "text/plain": [
       "('bert_sentiment_model/tokenizer_config.json',\n",
       " 'bert_sentiment_model/special_tokens_map.json',\n",
       " 'bert_sentiment_model/vocab.txt',\n",
       " 'bert_sentiment_model/added_tokens.json')"
      ]
     },
     "execution_count": 2,
     "metadata": {},
     "output_type": "execute_result"
    }
   ],
   "source": [
    "import pandas as pd\n",
    "from sklearn.model_selection import train_test_split\n",
    "from sklearn.metrics import classification_report, confusion_matrix, accuracy_score\n",
    "from tqdm import tqdm\n",
    "import torch\n",
    "from torch.utils.data import DataLoader, TensorDataset\n",
    "from transformers import BertTokenizer, BertForSequenceClassification, AdamW\n",
    "from sklearn.metrics import classification_report, accuracy_score\n",
    "\n",
    "# Load the dataset\n",
    "df = pd.read_csv('dataset.csv')  \n",
    "df = df.dropna()  # Drop rows with missing values\n",
    "df['Rating'] = df['Rating'].astype(int)  # Ensure the Rating column is of integer type\n",
    "\n",
    "# Split the dataset into training and testing sets\n",
    "train_df, test_df = train_test_split(df, test_size=0.2, random_state=42)\n",
    "\n",
    "# Load BERT tokenizer and model\n",
    "tokenizer = BertTokenizer.from_pretrained('bert-base-uncased')\n",
    "model = BertForSequenceClassification.from_pretrained('bert-base-uncased', num_labels=5)\n",
    "\n",
    "# Tokenize and preprocess the data\n",
    "def tokenize_reviews(reviews, max_length=128):\n",
    "    input_ids = []\n",
    "    attention_masks = []\n",
    "\n",
    "    for review in reviews:\n",
    "        encoded_dict = tokenizer.encode_plus(\n",
    "            review,\n",
    "            add_special_tokens=True,\n",
    "            max_length=max_length,\n",
    "            padding='max_length',\n",
    "            truncation=True,\n",
    "            return_tensors='pt',\n",
    "        )\n",
    "\n",
    "        input_ids.append(encoded_dict['input_ids'])\n",
    "        attention_masks.append(encoded_dict['attention_mask'])\n",
    "\n",
    "    return torch.cat(input_ids, dim=0), torch.cat(attention_masks, dim=0)\n",
    "\n",
    "# Tokenize training data\n",
    "train_input_ids, train_attention_masks = tokenize_reviews(train_df['Review'].values)\n",
    "train_labels = torch.tensor(train_df['Rating'].values - 1)  # Subtract 1 to make it in the range [0, 4]\n",
    "\n",
    "# Tokenize testing data\n",
    "test_input_ids, test_attention_masks = tokenize_reviews(test_df['Review'].values)\n",
    "test_labels = torch.tensor(test_df['Rating'].values - 1)  # Subtract 1 to make it in the range [0, 4]\n",
    "\n",
    "# Create DataLoader for training and testing\n",
    "batch_size = 16\n",
    "train_dataset = TensorDataset(train_input_ids, train_attention_masks, train_labels)\n",
    "train_loader = DataLoader(train_dataset, batch_size=batch_size, shuffle=True)\n",
    "\n",
    "test_dataset = TensorDataset(test_input_ids, test_attention_masks, test_labels)\n",
    "test_loader = DataLoader(test_dataset, batch_size=batch_size, shuffle=False)\n",
    "\n",
    "# Set up the optimizer and loss function\n",
    "optimizer = AdamW(model.parameters(), lr=2e-5)\n",
    "criterion = torch.nn.CrossEntropyLoss()\n",
    "\n",
    "# Training loop\n",
    "num_epochs = 1\n",
    "device = torch.device('cuda' if torch.cuda.is_available() else 'cpu')\n",
    "model.to(device)\n",
    "\n",
    "for epoch in range(num_epochs):\n",
    "    model.train()\n",
    "    total_loss = 0.0\n",
    "    correct_predictions_train = 0\n",
    "\n",
    "    for batch in tqdm(train_loader, desc=f'Epoch {epoch + 1}/{num_epochs} - Training'):\n",
    "        input_ids, attention_masks, labels = batch\n",
    "        input_ids, attention_masks, labels = input_ids.to(device), attention_masks.to(device), labels.to(device)\n",
    "\n",
    "        optimizer.zero_grad()\n",
    "\n",
    "        outputs = model(input_ids, attention_mask=attention_masks, labels=labels)\n",
    "        loss = outputs.loss\n",
    "        total_loss += loss.item()\n",
    "\n",
    "        predictions = torch.argmax(outputs.logits, dim=1)\n",
    "        correct_predictions_train += torch.sum(predictions == labels).item()\n",
    "\n",
    "        loss.backward()\n",
    "        optimizer.step()\n",
    "\n",
    "    average_loss_train = total_loss / len(train_loader)\n",
    "    accuracy_train = correct_predictions_train / len(train_dataset)\n",
    "\n",
    "    print(f'Epoch {epoch + 1}/{num_epochs}, Training Loss: {average_loss_train:.4f}, Training Accuracy: {accuracy_train:.4f}')\n",
    "\n",
    "    # Evaluate the model on the validation set\n",
    "    model.eval()\n",
    "    total_loss_val = 0.0\n",
    "    correct_predictions_val = 0\n",
    "    all_predictions = []\n",
    "    all_labels = []\n",
    "\n",
    "    with torch.no_grad():\n",
    "        for batch in tqdm(test_loader, desc=f'Epoch {epoch + 1}/{num_epochs} - Evaluating'):\n",
    "            input_ids, attention_masks, labels = batch\n",
    "            input_ids, attention_masks, labels = input_ids.to(device), attention_masks.to(device), labels.to(device)\n",
    "\n",
    "            outputs = model(input_ids, attention_mask=attention_masks, labels=labels)\n",
    "            loss_val = outputs.loss\n",
    "            total_loss_val += loss_val.item()\n",
    "\n",
    "            predictions_val = torch.argmax(outputs.logits, dim=1)\n",
    "            correct_predictions_val += torch.sum(predictions_val == labels).item()\n",
    "\n",
    "            all_predictions.extend(predictions_val.cpu().numpy())\n",
    "            all_labels.extend(labels.cpu().numpy())\n",
    "\n",
    "    average_loss_val = total_loss_val / len(test_loader)\n",
    "    accuracy_val = correct_predictions_val / len(test_dataset)\n",
    "\n",
    "# Print the final metrics after all epochs\n",
    "print(f'Final Training Loss: {average_loss_train:.4f}, Final Training Accuracy: {accuracy_train:.4f}')\n",
    "print(f'Final Validation Loss: {average_loss_val:.4f}, Final Validation Accuracy: {accuracy_val:.4f}')\n",
    "\n",
    "# Calculate and print confusion matrix\n",
    "conf_matrix = confusion_matrix(all_labels, all_predictions)\n",
    "print('Confusion Matrix:\\n', conf_matrix)\n",
    "\n",
    "# Calculate and print classification report\n",
    "classification_report_str = classification_report(all_labels, all_predictions)\n",
    "print('Final Classification Report:\\n', classification_report_str)\n",
    "\n",
    "# Save the trained model\n",
    "model.save_pretrained('bert_sentiment_model')\n",
    "tokenizer.save_pretrained('bert_sentiment_model')\n"
   ]
  },
  {
   "cell_type": "code",
   "execution_count": null,
   "metadata": {
    "id": "NbnCMlxpMTcT"
   },
   "outputs": [],
   "source": []
  }
 ],
 "metadata": {
  "colab": {
   "provenance": []
  },
  "kernelspec": {
   "display_name": "Python 3 (ipykernel)",
   "language": "python",
   "name": "python3"
  },
  "language_info": {
   "codemirror_mode": {
    "name": "ipython",
    "version": 3
   },
   "file_extension": ".py",
   "mimetype": "text/x-python",
   "name": "python",
   "nbconvert_exporter": "python",
   "pygments_lexer": "ipython3",
   "version": "3.11.8"
  }
 },
 "nbformat": 4,
 "nbformat_minor": 1
}
